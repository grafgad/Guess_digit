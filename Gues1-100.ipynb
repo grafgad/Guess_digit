{
 "cells": [
  {
   "cell_type": "markdown",
   "metadata": {},
   "source": [
    "Компьютер загадывает целое число от 1 до 100, и нам его нужно угадать. Под «угадать» подразумевается «написать программу, которая угадывает число».\n",
    "Алгоритм учитывает информацию о том, больше или меньше случайное число нужного нам числа.\n",
    "Представлен шаблон baseline из скринкаста."
   ]
  },
  {
   "cell_type": "code",
   "execution_count": 32,
   "metadata": {},
   "outputs": [
    {
     "name": "stdout",
     "output_type": "stream",
     "text": [
      "67\n",
      "Загаданное число = 67. Мы угадали его за 7 попыток\n"
     ]
    }
   ],
   "source": [
    "import numpy as np\n",
    "\n",
    "diapason = list(range(1,101))\n",
    "digit = np.random.randint(1, 101)\n",
    "print(digit)\n",
    "\n",
    "min = 0\n",
    "max = len(diapason)-1\n",
    "mid = (diapason[min] + diapason[max]) // 2\n",
    "count = 0\n",
    "\n",
    "while mid!= digit:\n",
    "    count +=1\n",
    "    mid = (diapason[min] + diapason[max]) // 2\n",
    "    if digit == diapason[mid-1]:\n",
    "            print(\"Загаданное число = {}. Мы угадали его за {} попыток.\".format(diapason[mid -1], count))\n",
    "    elif digit > diapason[mid-1]:\n",
    "        min = mid\n",
    "    else: \n",
    "        max = mid-1"
   ]
  }
 ],
 "metadata": {
  "kernelspec": {
   "display_name": "Python 3",
   "language": "python",
   "name": "python3"
  },
  "language_info": {
   "codemirror_mode": {
    "name": "ipython",
    "version": 3
   },
   "file_extension": ".py",
   "mimetype": "text/x-python",
   "name": "python",
   "nbconvert_exporter": "python",
   "pygments_lexer": "ipython3",
   "version": "3.12.0"
  }
 },
 "nbformat": 4,
 "nbformat_minor": 2
}
